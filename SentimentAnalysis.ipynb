{
 "cells": [
  {
   "cell_type": "code",
   "execution_count": 1,
   "id": "worthy-windsor",
   "metadata": {},
   "outputs": [],
   "source": [
    "from urllib.request import urlopen, Request\n",
    "from bs4 import BeautifulSoup\n",
    "from nltk.sentiment.vader import SentimentIntensityAnalyzer\n",
    "import pandas as pd\n",
    "import matplotlib.pyplot as plt"
   ]
  },
  {
   "cell_type": "code",
   "execution_count": 2,
   "id": "comprehensive-progress",
   "metadata": {},
   "outputs": [],
   "source": [
    "finviz_url = 'https://finviz.com/quote.ashx?t='\n",
    "tickers = ['AMZN', 'GOOG', 'FB']"
   ]
  },
  {
   "cell_type": "code",
   "execution_count": 21,
   "id": "alike-gates",
   "metadata": {},
   "outputs": [],
   "source": [
    "# import urllib.request\n",
    "# import urllib.parse\n",
    "# data = {}\n",
    "# data['name'] = 'Somebody Here'\n",
    "# data['location'] = 'Northampton'\n",
    "# data['language'] = 'Python'\n",
    "# url_values = urllib.parse.urlencode(data)\n",
    "# print(url_values)  # The order may differ from below.  \n",
    "# url = 'http://www.example.com/example.cgi'\n",
    "# full_url = url + '?' + url_values\n",
    "# data = urllib.request.urlopen(full_url)"
   ]
  },
  {
   "cell_type": "code",
   "execution_count": 22,
   "id": "engaged-label",
   "metadata": {},
   "outputs": [],
   "source": [
    "# create empty dict\n",
    "news_tables = {}\n",
    "\n",
    "for ticker in tickers:\n",
    "    url = finviz_url + ticker\n",
    "# Some websites dislike being browsed by programs, or send different versions to different browsers. \n",
    "# By default urllib identifies itself as Python-urllib/x.y (where x and y are the major and minor version \n",
    "# numbers of the Python release, e.g. Python-urllib/2.5), which may confuse the site, or just plain not work. \n",
    "# The way a browser identifies itself is through the 'User-Agent' header (can be whatever). \n",
    "# When you create a Request object you can pass a dictionary of headers in.\n",
    "    req = Request(url=url, headers={'user-agent': 'my-app'})\n",
    "#     print(req)\n",
    "#     break\n",
    "    \n",
    "    response = urlopen(req)\n",
    "#     print(response)\n",
    "#     break \n",
    "\n",
    "#   meantion that we are using html parser\n",
    "    html = BeautifulSoup(response, features='html.parser')\n",
    "#     print(html)\n",
    "#     break\n",
    "    \n",
    "    news_table = html.find(id='news-table')\n",
    "#     print(news_table)\n",
    "#     break\n",
    "    \n",
    "    news_tables[ticker] = news_table\n",
    "#     print(news_table)\n",
    "#     break"
   ]
  },
  {
   "cell_type": "code",
   "execution_count": 24,
   "id": "restricted-george",
   "metadata": {},
   "outputs": [],
   "source": [
    "parsed_data = []\n",
    "\n",
    "# .items()??\n",
    "for ticker, news_table in news_tables.items():\n",
    "#   get a list of table rows\n",
    "    for row in news_table.findAll('tr'):\n",
    "\n",
    "\n",
    "#       The <a> tag defines a hyperlink. The most important attribute of the <a> element is the href attribute, \n",
    "#       which indicates the link's destination.\n",
    "        title = row.a.text\n",
    "#         print(title)\n",
    "#         break\n",
    "        \n",
    "        date_data = row.td.text.split(' ')\n",
    "#         print(date_data)\n",
    "#         break\n",
    "\n",
    "\n",
    "#       meaning if we only have a timestamp, no date\n",
    "        if len(date_data) == 1:\n",
    "            time = date_data[0]\n",
    "        else:\n",
    "            date = date_data[0]\n",
    "            time = date_data[1]\n",
    "#         print(time)\n",
    "#         print(date)\n",
    "#         break\n",
    "\n",
    "        parsed_data.append([ticker, date, time, title])\n",
    "#         print(parsed_data)\n",
    "#         break"
   ]
  },
  {
   "cell_type": "code",
   "execution_count": 16,
   "id": "permanent-tiger",
   "metadata": {},
   "outputs": [],
   "source": [
    "df = pd.DataFrame(parsed_data, columns=['ticker', 'date', 'time', 'title'])"
   ]
  },
  {
   "cell_type": "code",
   "execution_count": 17,
   "id": "rapid-occasion",
   "metadata": {},
   "outputs": [],
   "source": [
    "vader = SentimentIntensityAnalyzer()\n",
    "\n",
    "# \n",
    "f = lambda title: vader.polarity_scores(title)['compound']\n",
    "df['compound'] = df['title'].apply(f)\n",
    "df['date'] = pd.to_datetime(df.date).dt.date"
   ]
  },
  {
   "cell_type": "code",
   "execution_count": 18,
   "id": "centered-bernard",
   "metadata": {},
   "outputs": [
    {
     "data": {
      "text/html": [
       "<div>\n",
       "<style scoped>\n",
       "    .dataframe tbody tr th:only-of-type {\n",
       "        vertical-align: middle;\n",
       "    }\n",
       "\n",
       "    .dataframe tbody tr th {\n",
       "        vertical-align: top;\n",
       "    }\n",
       "\n",
       "    .dataframe thead th {\n",
       "        text-align: right;\n",
       "    }\n",
       "</style>\n",
       "<table border=\"1\" class=\"dataframe\">\n",
       "  <thead>\n",
       "    <tr style=\"text-align: right;\">\n",
       "      <th></th>\n",
       "      <th>ticker</th>\n",
       "      <th>date</th>\n",
       "      <th>time</th>\n",
       "      <th>title</th>\n",
       "      <th>compound</th>\n",
       "    </tr>\n",
       "  </thead>\n",
       "  <tbody>\n",
       "    <tr>\n",
       "      <th>0</th>\n",
       "      <td>AMZN</td>\n",
       "      <td>2021-01-20</td>\n",
       "      <td>08:19PM</td>\n",
       "      <td>Indian stock exchanges approve $3.4B Reliance ...</td>\n",
       "      <td>0.1779</td>\n",
       "    </tr>\n",
       "    <tr>\n",
       "      <th>1</th>\n",
       "      <td>AMZN</td>\n",
       "      <td>2021-01-20</td>\n",
       "      <td>07:20PM</td>\n",
       "      <td>Amazon offers to help Bidens effort to quickly...</td>\n",
       "      <td>0.5267</td>\n",
       "    </tr>\n",
       "    <tr>\n",
       "      <th>2</th>\n",
       "      <td>AMZN</td>\n",
       "      <td>2021-01-20</td>\n",
       "      <td>06:20PM</td>\n",
       "      <td>Amazon is offering Biden a hand distributing t...</td>\n",
       "      <td>0.5994</td>\n",
       "    </tr>\n",
       "    <tr>\n",
       "      <th>3</th>\n",
       "      <td>AMZN</td>\n",
       "      <td>2021-01-20</td>\n",
       "      <td>05:57PM</td>\n",
       "      <td>How Netflixs overseas expansion fueled its exp...</td>\n",
       "      <td>0.3818</td>\n",
       "    </tr>\n",
       "    <tr>\n",
       "      <th>4</th>\n",
       "      <td>AMZN</td>\n",
       "      <td>2021-01-20</td>\n",
       "      <td>05:34PM</td>\n",
       "      <td>Here Is Whats Behind Todays Big Tech Stock Rally</td>\n",
       "      <td>0.0000</td>\n",
       "    </tr>\n",
       "  </tbody>\n",
       "</table>\n",
       "</div>"
      ],
      "text/plain": [
       "  ticker        date       time  \\\n",
       "0   AMZN  2021-01-20  08:19PM     \n",
       "1   AMZN  2021-01-20  07:20PM     \n",
       "2   AMZN  2021-01-20  06:20PM     \n",
       "3   AMZN  2021-01-20  05:57PM     \n",
       "4   AMZN  2021-01-20  05:34PM     \n",
       "\n",
       "                                               title  compound  \n",
       "0  Indian stock exchanges approve $3.4B Reliance ...    0.1779  \n",
       "1  Amazon offers to help Bidens effort to quickly...    0.5267  \n",
       "2  Amazon is offering Biden a hand distributing t...    0.5994  \n",
       "3  How Netflixs overseas expansion fueled its exp...    0.3818  \n",
       "4   Here Is Whats Behind Todays Big Tech Stock Rally    0.0000  "
      ]
     },
     "execution_count": 18,
     "metadata": {},
     "output_type": "execute_result"
    }
   ],
   "source": [
    "df.head()"
   ]
  },
  {
   "cell_type": "code",
   "execution_count": 41,
   "id": "reverse-capture",
   "metadata": {},
   "outputs": [
    {
     "data": {
      "text/html": [
       "<div>\n",
       "<style scoped>\n",
       "    .dataframe tbody tr th:only-of-type {\n",
       "        vertical-align: middle;\n",
       "    }\n",
       "\n",
       "    .dataframe tbody tr th {\n",
       "        vertical-align: top;\n",
       "    }\n",
       "\n",
       "    .dataframe thead tr th {\n",
       "        text-align: left;\n",
       "    }\n",
       "\n",
       "    .dataframe thead tr:last-of-type th {\n",
       "        text-align: right;\n",
       "    }\n",
       "</style>\n",
       "<table border=\"1\" class=\"dataframe\">\n",
       "  <thead>\n",
       "    <tr>\n",
       "      <th></th>\n",
       "      <th colspan=\"8\" halign=\"left\">compound</th>\n",
       "    </tr>\n",
       "    <tr>\n",
       "      <th>date</th>\n",
       "      <th>2021-01-13</th>\n",
       "      <th>2021-01-14</th>\n",
       "      <th>2021-01-15</th>\n",
       "      <th>2021-01-16</th>\n",
       "      <th>2021-01-17</th>\n",
       "      <th>2021-01-18</th>\n",
       "      <th>2021-01-19</th>\n",
       "      <th>2021-01-20</th>\n",
       "    </tr>\n",
       "    <tr>\n",
       "      <th>ticker</th>\n",
       "      <th></th>\n",
       "      <th></th>\n",
       "      <th></th>\n",
       "      <th></th>\n",
       "      <th></th>\n",
       "      <th></th>\n",
       "      <th></th>\n",
       "      <th></th>\n",
       "    </tr>\n",
       "  </thead>\n",
       "  <tbody>\n",
       "    <tr>\n",
       "      <th>AMZN</th>\n",
       "      <td>0.131162</td>\n",
       "      <td>0.101519</td>\n",
       "      <td>0.124184</td>\n",
       "      <td>0.177400</td>\n",
       "      <td>0.263350</td>\n",
       "      <td>0.193683</td>\n",
       "      <td>0.146886</td>\n",
       "      <td>0.213574</td>\n",
       "    </tr>\n",
       "    <tr>\n",
       "      <th>FB</th>\n",
       "      <td>-0.107527</td>\n",
       "      <td>-0.119364</td>\n",
       "      <td>-0.150991</td>\n",
       "      <td>-0.128071</td>\n",
       "      <td>-0.371200</td>\n",
       "      <td>0.016765</td>\n",
       "      <td>0.059321</td>\n",
       "      <td>0.083227</td>\n",
       "    </tr>\n",
       "    <tr>\n",
       "      <th>GOOG</th>\n",
       "      <td>-0.057520</td>\n",
       "      <td>-0.094742</td>\n",
       "      <td>0.018692</td>\n",
       "      <td>-0.068400</td>\n",
       "      <td>-0.159225</td>\n",
       "      <td>-0.151250</td>\n",
       "      <td>0.015129</td>\n",
       "      <td>0.134671</td>\n",
       "    </tr>\n",
       "  </tbody>\n",
       "</table>\n",
       "</div>"
      ],
      "text/plain": [
       "         compound                                                         \\\n",
       "date   2021-01-13 2021-01-14 2021-01-15 2021-01-16 2021-01-17 2021-01-18   \n",
       "ticker                                                                     \n",
       "AMZN     0.131162   0.101519   0.124184   0.177400   0.263350   0.193683   \n",
       "FB      -0.107527  -0.119364  -0.150991  -0.128071  -0.371200   0.016765   \n",
       "GOOG    -0.057520  -0.094742   0.018692  -0.068400  -0.159225  -0.151250   \n",
       "\n",
       "                              \n",
       "date   2021-01-19 2021-01-20  \n",
       "ticker                        \n",
       "AMZN     0.146886   0.213574  \n",
       "FB       0.059321   0.083227  \n",
       "GOOG     0.015129   0.134671  "
      ]
     },
     "execution_count": 41,
     "metadata": {},
     "output_type": "execute_result"
    }
   ],
   "source": [
    "# df.groupby(['ticker', 'date']).head(2)\n",
    "# df.groupby(['ticker', 'date']).mean()\n",
    "df.groupby(['ticker', 'date']).mean().unstack()"
   ]
  },
  {
   "cell_type": "code",
   "execution_count": 43,
   "id": "northern-jurisdiction",
   "metadata": {},
   "outputs": [
    {
     "data": {
      "text/plain": [
       "<Figure size 720x576 with 0 Axes>"
      ]
     },
     "metadata": {},
     "output_type": "display_data"
    },
    {
     "data": {
      "image/png": "[encoded data removed]",
      "text/plain": [
       "<Figure size 432x288 with 1 Axes>"
      ]
     },
     "metadata": {
      "needs_background": "light"
     },
     "output_type": "display_data"
    }
   ],
   "source": [
    "plt.figure(figsize=(10,8))\n",
    "mean_df = df.groupby(['ticker', 'date']).mean().unstack()\n",
    "# compound score, .xs()?\n",
    "mean_df = mean_df.xs('compound', axis=\"columns\")\n",
    "mean_df.plot(kind='bar')\n",
    "plt.show()"
   ]
  },
  {
   "cell_type": "code",
   "execution_count": null,
   "id": "intimate-chick",
   "metadata": {},
   "outputs": [],
   "source": []
  }
 ],
 "metadata": {
  "kernelspec": {
   "display_name": "Python 3",
   "language": "python",
   "name": "python3"
  },
  "language_info": {
   "codemirror_mode": {
    "name": "ipython",
    "version": 3
   },
   "file_extension": ".py",
   "mimetype": "text/x-python",
   "name": "python",
   "nbconvert_exporter": "python",
   "pygments_lexer": "ipython3",
   "version": "3.9.1"
  }
 },
 "nbformat": 4,
 "nbformat_minor": 5
}
